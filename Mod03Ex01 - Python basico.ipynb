{
 "cells": [
  {
   "cell_type": "markdown",
   "metadata": {},
   "source": [
    "### 01 - Teste de gravidez\n",
    "Escreva uma célula com controle de fluxos que tem como premissa a existência das seguintes variáveis:\n",
    "\n",
    "- ```sexo``` como ```str``` indicando os valores '**M**' para masculino e '**F**' para feminino  \n",
    "- ```beta_hcg``` que indica a quantidade do beta-HCG no sangue em mUI/mL.\n",
    "\n",
    "A sua tarefa é escrever um código que imprima como resultado \"indivíduo do sexo masculino\" quando sexo = 'M', caso sexo = 'F', se o valor de beta-HCG for maior que 5, retorne \"Positivo\" indicando que a paciente está grávida, e retorne \"Negativo\" caso contrário.\n",
    "\n",
    "Não mexa nos valores da variável ```sexo``` nem em ```beta_hcg```, e escreva um código que funcione para quaisquer valores possíveis de ambos: ```sexo``` = '**M**' ou '**F**' e ```beta_hcg``` assumindo valores inteiros positivos."
   ]
  },
  {
   "cell_type": "code",
   "execution_count": 12,
   "metadata": {},
   "outputs": [
    {
     "name": "stdout",
     "output_type": "stream",
     "text": [
      "Qual o seu Sexo? Digite \"M\" para masculino e \"F\" para feminino: m\n",
      "Ok, não é necessario verificação de Beta HCG\n"
     ]
    }
   ],
   "source": [
    "sexo = 'M'\n",
    "beta_hcg = 0\n",
    "\n",
    "# seu código vem abaixo desta linha\n",
    "\n",
    "# Solicitando ao usuário informar o sexo\n",
    "sexo_usuario = input('Qual o seu Sexo? Digite \"M\" para masculino e \"F\" para feminino: ')\n",
    "\n",
    "#Verificação de sexo, se feminino confirmar resultado beta hcg se masculino finalizar\n",
    "if sexo_usuario.upper() != sexo:\n",
    "    beta_hcg = int(input('Qual o resultado do seu Beta HCG?'))\n",
    "    \n",
    "    if beta_hcg >5:\n",
    "        print('Positivo')\n",
    "        \n",
    "    elif beta_hcg <=0:\n",
    "        print('Valor invalido, o resultado não pode ser inferior ou igual a 0. ')\n",
    "        \n",
    "    else:\n",
    "        print('Negativo')\n",
    "else:\n",
    "    print('Ok, não é necessario verificação de Beta HCG')\n"
   ]
  },
  {
   "cell_type": "markdown",
   "metadata": {},
   "source": [
    "### 02 - Renomeando variáveis\n",
    "\n",
    "Vamos ver adiante que uma forma de renomear variáveis de um conjunto de dados é através de dicionários - o dicionário deve conter como chave o nome original, associando a cada chave um único valor (tipo *str*) que contenha o nome novo.\n",
    "\n",
    "A sua tarefa é escrever um dicionário que possa ser utilizado para traduzir as variáveis ```name``` (nome), ```age``` (idade) e ```income``` (renda). Ou seja, esse dicionário deve relacionar as chaves *name, age* e *income* às suas respectivas traduções."
   ]
  },
  {
   "cell_type": "code",
   "execution_count": 15,
   "metadata": {},
   "outputs": [
    {
     "name": "stdout",
     "output_type": "stream",
     "text": [
      "{'name': 'nome', 'age': 'idade', 'income': 'renda'}\n",
      "idade\n",
      "nome\n",
      "renda\n"
     ]
    }
   ],
   "source": [
    "dic_renomeacao = {'name': 'nome', 'age':'idade', 'income':'renda'}\n",
    "print(dic_renomeacao)\n",
    "print(dic_renomeacao['age'])\n",
    "print(dic_renomeacao['name'])\n",
    "print(dic_renomeacao['income'])\n"
   ]
  },
  {
   "cell_type": "markdown",
   "metadata": {},
   "source": [
    "### 03 - É divisível?\n",
    "A sua tarefa é escrever um código que indique se um número ```N``` é divisível por um número P. Escreva um programa que faça essa verificação para quaisquer combinações de ```N``` e ```M``` e devolva uma mensagem indicativa no output."
   ]
  },
  {
   "cell_type": "code",
   "execution_count": 20,
   "metadata": {},
   "outputs": [
    {
     "name": "stdout",
     "output_type": "stream",
     "text": [
      "Vamos descobrir se um numero é divisivel por outro. Digite o dividendo: 21\n",
      "Agora digite o divisor: 5\n",
      "Não, 21 não é divisível por 5.\n"
     ]
    }
   ],
   "source": [
    "N = 42\n",
    "M = 7\n",
    "\n",
    "#Seu código\n",
    "\n",
    "#Solicitando ao usuário os numeros que deseja saber se são divisores e guardando nas variaveis N e M\n",
    "\n",
    "N = int(input('Vamos descobrir se um numero é divisivel por outro. Digite o dividendo: '))\n",
    "M = int(input('Agora digite o divisor: '))\n",
    "\n",
    "resto_div = N%M\n",
    "\n",
    "if resto_div == 0:\n",
    "    print(f'Sim, {N} é divisível por {M}.')\n",
    "\n",
    "else:\n",
    "    print(f'Não, {N} não é divisível por {M}.')\n",
    "    "
   ]
  },
  {
   "cell_type": "markdown",
   "metadata": {},
   "source": [
    "### 04 - Números primos\n",
    "> Um número **N** é primo se e somente se é divisível por 1, -1, por **N** e por -**N**.  \n",
    "\n",
    "Escreva um script que verifica se ```N``` é um número primo, verificando se ```N``` é divisível por todos os números de ```1``` a ```N-1```. Você vai precisar usar alguma ferramenta de *loop* que você aprendeu para isto. No final, devolva uma mensagem no output indicando se o número é primo ou não."
   ]
  },
  {
   "cell_type": "code",
   "execution_count": 66,
   "metadata": {},
   "outputs": [
    {
     "name": "stdout",
     "output_type": "stream",
     "text": [
      "Digite o numero que deseja saber se é primo: 7\n",
      "Sim, 7 é um número primo\n"
     ]
    }
   ],
   "source": [
    "N = 7\n",
    "\n",
    "# seu código abaixo\n",
    "\n",
    "# Solicitando ao usuário digitar o número que deseja saber se é primo\n",
    "N = int(input(\"Digite o numero que deseja saber se é primo: \"))\n",
    "\n",
    "primo = True\n",
    "\n",
    "# Numeros <=1 não são primos, por isso já podemos exlcuir no inicio\n",
    "if N <=1:\n",
    "    primo = False\n",
    "\n",
    "# Se o numero digitado for >1 então podemos seguir com a verificação\n",
    "else:\n",
    "\n",
    "    for i in range(2,N):\n",
    "\n",
    "        if N % i == 0:\n",
    "            primo = False\n",
    "        else:\n",
    "            True\n",
    "            \n",
    "        \n",
    "if primo == True:\n",
    "    print(f'Sim, {N} é um número primo')\n",
    "else:\n",
    "    print(f'Não, {N} não é um número primo')"
   ]
  },
  {
   "cell_type": "markdown",
   "metadata": {},
   "source": [
    "### 05 - Desafio\n",
    "O algorítmo do exercício anterior não é o mais eficiente. O que você pode fazer para deixá-lo mais eficiente? Ou seja, executar menos comparações, portanto consumir menos tempo.\n",
    "1. Será que precisamos correr o loop até o final sempre?\n",
    "2. Será que precisamos mesmo verificar **todos** os números?\n",
    "3. Será que precisamos ir até N-1?\n",
    "\n",
    "Essas perguntas levam ao tipo de pensamento voltado a deixar um algoritmo mais eficiente. Veja se você consegue melhorar o seu."
   ]
  },
  {
   "cell_type": "code",
   "execution_count": 65,
   "metadata": {},
   "outputs": [
    {
     "name": "stdout",
     "output_type": "stream",
     "text": [
      "Digite o numero que deseja saber se é primo: 98\n",
      "Não, 98 não é um número primo\n"
     ]
    }
   ],
   "source": [
    "N = 98\n",
    "\n",
    "# seu código aqui\n",
    "\n",
    "# Solicitando ao usuário digitar o número que deseja saber se é primo\n",
    "N = int(input(\"Digite o numero que deseja saber se é primo: \"))\n",
    "\n",
    "primo = True\n",
    "\n",
    "# Numeros <=1 não são primos, por isso já podemos exlcuir no inicio\n",
    "if N <=1:\n",
    "    primo = False\n",
    "\n",
    "# Se o numero digitado for >1 então podemos seguir com a verificação\n",
    "else:\n",
    "\n",
    "# pesquisando um pouco, entendi que um numero não pode ter um divisor maior que a sua metade,por isso não há necessidade de vericar o range até o final, podemos //2 (// para resultado inteiro)    \n",
    "    for i in range(2, N // 2 + 1): \n",
    "\n",
    "        if N % i == 0:\n",
    "            primo = False\n",
    "            break           # o break interrompe o looping assim que a condição atendida, não \n",
    "            \n",
    "        \n",
    "if primo == True:\n",
    "    print(f'Sim, {N} é um número primo')\n",
    "else:\n",
    "    print(f'Não, {N} não é um número primo')\n",
    "\n"
   ]
  },
  {
   "cell_type": "markdown",
   "metadata": {},
   "source": [
    "### 06 - Peso ideal 1\n",
    "O IMC (índice de massa corpórea) é um indicador de saúde mais bem aceito que o peso. Ele é calculado como:\n",
    "\n",
    "$$ IMC = \\dfrac{peso}{altura^2}$$\n",
    "\n",
    "Segundo a OMS, valores *normais* são entre 18.5 e 24.9.\n",
    "\n",
    "Sua tarefa é encontrar o ponto médio dessa faixa."
   ]
  },
  {
   "cell_type": "code",
   "execution_count": 71,
   "metadata": {},
   "outputs": [
    {
     "data": {
      "text/plain": [
       "21.7"
      ]
     },
     "execution_count": 71,
     "metadata": {},
     "output_type": "execute_result"
    }
   ],
   "source": [
    "imc_ideal = (18.5 + 24.9) / 2\n",
    "imc_ideal"
   ]
  },
  {
   "cell_type": "markdown",
   "metadata": {},
   "source": [
    "### 07 - Peso ideal 2\n",
    "Recebendo um valor de altura, encontre o peso '*ideal*' dessa pessoa, que fornece o IMC encontrado acima"
   ]
  },
  {
   "cell_type": "code",
   "execution_count": 76,
   "metadata": {},
   "outputs": [
    {
     "data": {
      "text/plain": [
       "62.71"
      ]
     },
     "execution_count": 76,
     "metadata": {},
     "output_type": "execute_result"
    }
   ],
   "source": [
    "altura = 1.70\n",
    "\n",
    "# Seu código\n",
    "peso_ideal = round(imc_ideal * altura**2, 2)\n",
    "peso_ideal"
   ]
  },
  {
   "cell_type": "markdown",
   "metadata": {},
   "source": [
    "### 08 - Peso ideal 3\n",
    "Dada uma lista contendo as alturas de pacientes, crie uma nova lista que contenha o peso '*ideal*' (que fornece o IMC calculado em **Peso ideal 1**) desses pacientes."
   ]
  },
  {
   "cell_type": "code",
   "execution_count": 79,
   "metadata": {},
   "outputs": [
    {
     "data": {
      "text/plain": [
       "[83, 91, 63, 59]"
      ]
     },
     "execution_count": 79,
     "metadata": {},
     "output_type": "execute_result"
    }
   ],
   "source": [
    "lista_alturas = [1.95, 2.05, 1.70, 1.65]\n",
    "\n",
    "lista_peso_ideal = []\n",
    "\n",
    "# seu código\n",
    "\n",
    "for altura in lista_alturas:\n",
    "    lista_peso_ideal.append (round(altura**2 * imc_ideal))\n",
    "    \n",
    "lista_peso_ideal"
   ]
  },
  {
   "cell_type": "markdown",
   "metadata": {},
   "source": [
    "### 09 - Peso ideal 4\n",
    "Dada uma lista de tuplas - cada elemento da lista é uma tupla contendo altura e peso de um paciente - crie uma nova lista com o IMC desses pacientes."
   ]
  },
  {
   "cell_type": "code",
   "execution_count": 85,
   "metadata": {},
   "outputs": [
    {
     "data": {
      "text/plain": [
       "[27.78, 27.55, 19.19]"
      ]
     },
     "execution_count": 85,
     "metadata": {},
     "output_type": "execute_result"
    }
   ],
   "source": [
    "altura_peso = [(1.80, 90), (1.65, 75), (1.91, 70)]\n",
    "\n",
    "imc = []\n",
    "\n",
    "# seu código\n",
    "\n",
    "for tupla in altura_peso:\n",
    "    altura, peso = tupla\n",
    "    imc.append(round(peso / altura**2, 2))\n",
    "\n",
    "imc"
   ]
  },
  {
   "cell_type": "code",
   "execution_count": 82,
   "metadata": {},
   "outputs": [
    {
     "data": {
      "text/plain": [
       "(1.8, 90)"
      ]
     },
     "execution_count": 82,
     "metadata": {},
     "output_type": "execute_result"
    }
   ],
   "source": [
    "altura_peso[0]"
   ]
  },
  {
   "cell_type": "markdown",
   "metadata": {},
   "source": [
    "### 10 - Peso ideal 5\n",
    "Dada uma lista de **listas** - cada elemento da lista é uma **lista** contendo altura e peso de um paciente, adicione mais um elemento à lista de cada paciente contendo o IMC do paciente. Verifique também se é 'baixo', 'normal' ou 'alto' segundo os padrões da OMS em que normal é entre 18.5 e 24.9.\n",
    "\n",
    "Reflexão: por que no problema anterior temos que criar uma nova lista, e não podemos adicionar os dados de cada indivíduo à tupla?"
   ]
  },
  {
   "cell_type": "code",
   "execution_count": 90,
   "metadata": {},
   "outputs": [
    {
     "data": {
      "text/plain": [
       "[[1.8, 90, 27.78, 'alto'],\n",
       " [1.65, 75, 27.55, 'alto'],\n",
       " [1.91, 70, 19.19, 'normal']]"
      ]
     },
     "execution_count": 90,
     "metadata": {},
     "output_type": "execute_result"
    }
   ],
   "source": [
    "altura_peso = [[1.80, 90], [1.65, 75], [1.91, 70]]\n",
    "\n",
    "# seu código\n",
    "\n",
    "for lista in altura_peso:\n",
    "    altura, peso = lista\n",
    "    imc_atual = (round(peso / altura**2, 2))\n",
    "    situacao_imc = \"\"\n",
    "        \n",
    "    if imc_atual <18.5:\n",
    "        situacao_imc =\"baixo\"\n",
    "    elif imc_atual <24.9:\n",
    "        situacao_imc =\"normal\"\n",
    "    else:\n",
    "        situacao_imc =\"alto\"\n",
    "    \n",
    "    lista.append(imc_atual)\n",
    "    lista.append(situacao_imc)\n",
    "        \n",
    "altura_peso"
   ]
  }
 ],
 "metadata": {
  "kernelspec": {
   "display_name": "Python 3 (ipykernel)",
   "language": "python",
   "name": "python3"
  },
  "language_info": {
   "codemirror_mode": {
    "name": "ipython",
    "version": 3
   },
   "file_extension": ".py",
   "mimetype": "text/x-python",
   "name": "python",
   "nbconvert_exporter": "python",
   "pygments_lexer": "ipython3",
   "version": "3.9.13"
  }
 },
 "nbformat": 4,
 "nbformat_minor": 4
}
